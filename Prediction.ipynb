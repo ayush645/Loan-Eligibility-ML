{
 "cells": [
  {
   "cell_type": "markdown",
   "id": "1ba7a7f4",
   "metadata": {},
   "source": [
    "# Loan Eligiblity Prediction 🤝📜📃⚖️💵"
   ]
  },
  {
   "cell_type": "markdown",
   "id": "0b8fb022",
   "metadata": {},
   "source": [
    "## Importing Library's"
   ]
  },
  {
   "cell_type": "code",
   "execution_count": 25,
   "id": "44d0f0f5",
   "metadata": {},
   "outputs": [],
   "source": [
    "import pandas as pd"
   ]
  },
  {
   "cell_type": "code",
   "execution_count": 164,
   "id": "14f5920a",
   "metadata": {},
   "outputs": [],
   "source": [
    "df = pd.read_csv(\"./Track_1.csv\")"
   ]
  },
  {
   "cell_type": "markdown",
   "id": "173dd83c",
   "metadata": {},
   "source": [
    "## Preprocessing"
   ]
  },
  {
   "cell_type": "code",
   "execution_count": 165,
   "id": "bb8e0763",
   "metadata": {},
   "outputs": [],
   "source": [
    "df = df.loc[:, ~df.columns.str.contains('^Unnamed')]"
   ]
  },
  {
   "cell_type": "code",
   "execution_count": 166,
   "id": "f7264328",
   "metadata": {},
   "outputs": [
    {
     "data": {
      "text/plain": [
       "(600, 22)"
      ]
     },
     "execution_count": 166,
     "metadata": {},
     "output_type": "execute_result"
    }
   ],
   "source": [
    "df.shape"
   ]
  },
  {
   "cell_type": "code",
   "execution_count": 167,
   "id": "643e07e0",
   "metadata": {},
   "outputs": [
    {
     "data": {
      "text/html": [
       "<div>\n",
       "<style scoped>\n",
       "    .dataframe tbody tr th:only-of-type {\n",
       "        vertical-align: middle;\n",
       "    }\n",
       "\n",
       "    .dataframe tbody tr th {\n",
       "        vertical-align: top;\n",
       "    }\n",
       "\n",
       "    .dataframe thead th {\n",
       "        text-align: right;\n",
       "    }\n",
       "</style>\n",
       "<table border=\"1\" class=\"dataframe\">\n",
       "  <thead>\n",
       "    <tr style=\"text-align: right;\">\n",
       "      <th></th>\n",
       "      <th>Number of people who will provide maintenance</th>\n",
       "      <th>Loan History</th>\n",
       "      <th>Purpose of taking loan</th>\n",
       "      <th>loan amount taken</th>\n",
       "      <th>Guarantor or Debtor</th>\n",
       "      <th>Number of years of employment</th>\n",
       "      <th>Marital Status</th>\n",
       "      <th>Number of loans taken from current bank</th>\n",
       "      <th>Age of the applicant in Number of Years</th>\n",
       "      <th>amount in current account</th>\n",
       "      <th>...</th>\n",
       "      <th>Other loans plans taken</th>\n",
       "      <th>Working abroad or not</th>\n",
       "      <th>Is there telephone number available</th>\n",
       "      <th>time duration for loan</th>\n",
       "      <th>Owned property</th>\n",
       "      <th>Type of job performed</th>\n",
       "      <th>Type of Housing</th>\n",
       "      <th>Number of years of stay in current address</th>\n",
       "      <th>Loan Defaulted or not</th>\n",
       "      <th>1=defaulted</th>\n",
       "    </tr>\n",
       "  </thead>\n",
       "  <tbody>\n",
       "    <tr>\n",
       "      <th>0</th>\n",
       "      <td>1</td>\n",
       "      <td>critical account/other loans existing (not at ...</td>\n",
       "      <td>New Car Purchase</td>\n",
       "      <td>1028</td>\n",
       "      <td>none</td>\n",
       "      <td>between 1 and 4 years</td>\n",
       "      <td>female and divorced/seperated/married</td>\n",
       "      <td>2</td>\n",
       "      <td>36</td>\n",
       "      <td>no current account</td>\n",
       "      <td>...</td>\n",
       "      <td>none</td>\n",
       "      <td>Yes</td>\n",
       "      <td>No</td>\n",
       "      <td>18</td>\n",
       "      <td>Real Estate</td>\n",
       "      <td>skilled employee / official</td>\n",
       "      <td>own</td>\n",
       "      <td>3</td>\n",
       "      <td>1</td>\n",
       "      <td>2=not defaulted</td>\n",
       "    </tr>\n",
       "    <tr>\n",
       "      <th>1</th>\n",
       "      <td>1</td>\n",
       "      <td>existing loans paid back duly till now</td>\n",
       "      <td>Purchase of radio/television</td>\n",
       "      <td>10222</td>\n",
       "      <td>none</td>\n",
       "      <td>greater than 4 years</td>\n",
       "      <td>male and single</td>\n",
       "      <td>1</td>\n",
       "      <td>37</td>\n",
       "      <td>no current account</td>\n",
       "      <td>...</td>\n",
       "      <td>stores</td>\n",
       "      <td>Yes</td>\n",
       "      <td>Yes</td>\n",
       "      <td>48</td>\n",
       "      <td>car or other property</td>\n",
       "      <td>skilled employee / official</td>\n",
       "      <td>own</td>\n",
       "      <td>3</td>\n",
       "      <td>1</td>\n",
       "      <td>NaN</td>\n",
       "    </tr>\n",
       "    <tr>\n",
       "      <th>2</th>\n",
       "      <td>1</td>\n",
       "      <td>existing loans paid back duly till now</td>\n",
       "      <td>Purchase of radio/television</td>\n",
       "      <td>701</td>\n",
       "      <td>none</td>\n",
       "      <td>between 1 and 4 years</td>\n",
       "      <td>male and married/widowed</td>\n",
       "      <td>1</td>\n",
       "      <td>40</td>\n",
       "      <td>less than 0</td>\n",
       "      <td>...</td>\n",
       "      <td>none</td>\n",
       "      <td>Yes</td>\n",
       "      <td>No</td>\n",
       "      <td>12</td>\n",
       "      <td>Real Estate</td>\n",
       "      <td>unskilled - resident</td>\n",
       "      <td>own</td>\n",
       "      <td>2</td>\n",
       "      <td>1</td>\n",
       "      <td>NaN</td>\n",
       "    </tr>\n",
       "    <tr>\n",
       "      <th>3</th>\n",
       "      <td>1</td>\n",
       "      <td>existing loans paid back duly till now</td>\n",
       "      <td>Purchase of radio/television</td>\n",
       "      <td>1670</td>\n",
       "      <td>none</td>\n",
       "      <td>less than a year</td>\n",
       "      <td>female and divorced/seperated/married</td>\n",
       "      <td>1</td>\n",
       "      <td>22</td>\n",
       "      <td>between 0 and 200</td>\n",
       "      <td>...</td>\n",
       "      <td>none</td>\n",
       "      <td>Yes</td>\n",
       "      <td>Yes</td>\n",
       "      <td>9</td>\n",
       "      <td>car or other property</td>\n",
       "      <td>skilled employee / official</td>\n",
       "      <td>own</td>\n",
       "      <td>2</td>\n",
       "      <td>2</td>\n",
       "      <td>NaN</td>\n",
       "    </tr>\n",
       "    <tr>\n",
       "      <th>4</th>\n",
       "      <td>1</td>\n",
       "      <td>critical account/other loans existing (not at ...</td>\n",
       "      <td>New Car Purchase</td>\n",
       "      <td>1163</td>\n",
       "      <td>none</td>\n",
       "      <td>between 1 and 4 years</td>\n",
       "      <td>male and single</td>\n",
       "      <td>1</td>\n",
       "      <td>44</td>\n",
       "      <td>no current account</td>\n",
       "      <td>...</td>\n",
       "      <td>none</td>\n",
       "      <td>Yes</td>\n",
       "      <td>Yes</td>\n",
       "      <td>12</td>\n",
       "      <td>Real Estate</td>\n",
       "      <td>skilled employee / official</td>\n",
       "      <td>own</td>\n",
       "      <td>4</td>\n",
       "      <td>1</td>\n",
       "      <td>NaN</td>\n",
       "    </tr>\n",
       "  </tbody>\n",
       "</table>\n",
       "<p>5 rows × 22 columns</p>\n",
       "</div>"
      ],
      "text/plain": [
       "   Number of people who will provide maintenance  \\\n",
       "0                                              1   \n",
       "1                                              1   \n",
       "2                                              1   \n",
       "3                                              1   \n",
       "4                                              1   \n",
       "\n",
       "                                        Loan History  \\\n",
       "0  critical account/other loans existing (not at ...   \n",
       "1             existing loans paid back duly till now   \n",
       "2             existing loans paid back duly till now   \n",
       "3             existing loans paid back duly till now   \n",
       "4  critical account/other loans existing (not at ...   \n",
       "\n",
       "         Purpose of taking loan  loan amount taken Guarantor or Debtor  \\\n",
       "0              New Car Purchase               1028                none   \n",
       "1  Purchase of radio/television              10222                none   \n",
       "2  Purchase of radio/television                701                none   \n",
       "3  Purchase of radio/television               1670                none   \n",
       "4              New Car Purchase               1163                none   \n",
       "\n",
       "  Number of years of employment                         Marital Status  \\\n",
       "0         between 1 and 4 years  female and divorced/seperated/married   \n",
       "1          greater than 4 years                        male and single   \n",
       "2         between 1 and 4 years               male and married/widowed   \n",
       "3              less than a year  female and divorced/seperated/married   \n",
       "4         between 1 and 4 years                        male and single   \n",
       "\n",
       "   Number of loans taken from current bank  \\\n",
       "0                                        2   \n",
       "1                                        1   \n",
       "2                                        1   \n",
       "3                                        1   \n",
       "4                                        1   \n",
       "\n",
       "   Age of the applicant in Number of Years amount in current account  ...  \\\n",
       "0                                       36        no current account  ...   \n",
       "1                                       37        no current account  ...   \n",
       "2                                       40               less than 0  ...   \n",
       "3                                       22         between 0 and 200  ...   \n",
       "4                                       44        no current account  ...   \n",
       "\n",
       "  Other loans plans taken  Working abroad or not  \\\n",
       "0                    none                    Yes   \n",
       "1                  stores                    Yes   \n",
       "2                    none                    Yes   \n",
       "3                    none                    Yes   \n",
       "4                    none                    Yes   \n",
       "\n",
       "  Is there telephone number available time duration for loan  \\\n",
       "0                                  No                     18   \n",
       "1                                 Yes                     48   \n",
       "2                                  No                     12   \n",
       "3                                 Yes                      9   \n",
       "4                                 Yes                     12   \n",
       "\n",
       "          Owned property        Type of job performed Type of Housing  \\\n",
       "0            Real Estate  skilled employee / official             own   \n",
       "1  car or other property  skilled employee / official             own   \n",
       "2            Real Estate         unskilled - resident             own   \n",
       "3  car or other property  skilled employee / official             own   \n",
       "4            Real Estate  skilled employee / official             own   \n",
       "\n",
       "  Number of years of stay in current address Loan Defaulted or not  \\\n",
       "0                                          3                     1   \n",
       "1                                          3                     1   \n",
       "2                                          2                     1   \n",
       "3                                          2                     2   \n",
       "4                                          4                     1   \n",
       "\n",
       "       1=defaulted  \n",
       "0  2=not defaulted  \n",
       "1              NaN  \n",
       "2              NaN  \n",
       "3              NaN  \n",
       "4              NaN  \n",
       "\n",
       "[5 rows x 22 columns]"
      ]
     },
     "execution_count": 167,
     "metadata": {},
     "output_type": "execute_result"
    }
   ],
   "source": [
    "df.head()"
   ]
  },
  {
   "cell_type": "code",
   "execution_count": 168,
   "id": "49630da8",
   "metadata": {},
   "outputs": [
    {
     "data": {
      "text/plain": [
       "array(['New Car Purchase', 'Purchase of radio/television',\n",
       "       'Old Car Repair', 'Purchase of furniture/equipment',\n",
       "       'Other repairs', 'Education Loan',\n",
       "       'Loan for business establishment', nan, 'Loan for retraining',\n",
       "       'Purchase of domestic appliances'], dtype=object)"
      ]
     },
     "execution_count": 168,
     "metadata": {},
     "output_type": "execute_result"
    }
   ],
   "source": [
    "df['Purpose of taking loan'].unique()"
   ]
  },
  {
   "cell_type": "code",
   "execution_count": 169,
   "id": "86a95ba5",
   "metadata": {},
   "outputs": [
    {
     "data": {
      "text/plain": [
       "array(['own', 'for free', 'rent'], dtype=object)"
      ]
     },
     "execution_count": 169,
     "metadata": {},
     "output_type": "execute_result"
    }
   ],
   "source": [
    "df['Type of Housing'].unique()"
   ]
  },
  {
   "cell_type": "code",
   "execution_count": 170,
   "id": "81fbc76f",
   "metadata": {},
   "outputs": [
    {
     "name": "stdout",
     "output_type": "stream",
     "text": [
      "<class 'pandas.core.frame.DataFrame'>\n",
      "RangeIndex: 600 entries, 0 to 599\n",
      "Data columns (total 22 columns):\n",
      " #   Column                                         Non-Null Count  Dtype \n",
      "---  ------                                         --------------  ----- \n",
      " 0   Number of people who will provide maintenance  600 non-null    int64 \n",
      " 1   Loan History                                   600 non-null    object\n",
      " 2   Purpose of taking loan                         591 non-null    object\n",
      " 3   loan amount taken                              600 non-null    int64 \n",
      " 4   Guarantor or Debtor                            600 non-null    object\n",
      " 5   Number of years of employment                  447 non-null    object\n",
      " 6   Marital Status                                 600 non-null    object\n",
      " 7   Number of loans taken from current bank        600 non-null    int64 \n",
      " 8   Age of the applicant in Number of Years        600 non-null    int64 \n",
      " 9   amount in current account                      600 non-null    object\n",
      " 10  amount in savings account                      600 non-null    object\n",
      " 11  % of income paid as installment                600 non-null    int64 \n",
      " 12  Other loans plans taken                        600 non-null    object\n",
      " 13  Working abroad or not                          600 non-null    object\n",
      " 14  Is there telephone number available            600 non-null    object\n",
      " 15  time duration for loan                         600 non-null    int64 \n",
      " 16  Owned property                                 600 non-null    object\n",
      " 17  Type of job performed                          600 non-null    object\n",
      " 18  Type of Housing                                600 non-null    object\n",
      " 19  Number of years of stay in current address     600 non-null    int64 \n",
      " 20  Loan Defaulted or not                          600 non-null    int64 \n",
      " 21  1=defaulted                                    1 non-null      object\n",
      "dtypes: int64(8), object(14)\n",
      "memory usage: 103.2+ KB\n"
     ]
    }
   ],
   "source": [
    "df.info()"
   ]
  },
  {
   "cell_type": "code",
   "execution_count": 171,
   "id": "b08aa30a",
   "metadata": {},
   "outputs": [],
   "source": [
    "df = df.drop(['1=defaulted','Other loans plans taken'],axis=1)"
   ]
  },
  {
   "cell_type": "code",
   "execution_count": 172,
   "id": "2b4ed10e",
   "metadata": {},
   "outputs": [],
   "source": [
    "#Other loans plans taken --> Drop Not UseFull"
   ]
  },
  {
   "cell_type": "code",
   "execution_count": 173,
   "id": "03673ee7",
   "metadata": {},
   "outputs": [],
   "source": [
    "#Renameing Coloumn Name For Convinence\n",
    "df.rename(columns = {'Number of people who will provide maintenance':'NPPM','Purpose of taking loan': 'Objective',\n",
    "                     'loan amount taken': 'Amount','Guarantor or Debtor': 'Guarantor','Loan History':'LoanStatus',\n",
    "                     'Number of years of employment': 'Experience','Marital Status' : 'M_Status','Number of loans taken from current bank': 'ExistingLoan',\n",
    "                     'Age of the applicant in Number of Years': 'Age','amount in current account': 'CA_Balance',\n",
    "                     'amount in savings account': 'SA_Balance','% of income paid as installment': 'PI_Payment',\n",
    "                     'Working abroad or not': 'WorkAB', 'Is there telephone number available': 'PhN',\n",
    "                     'time duration for loan': 'Tenure', 'Owned property': 'prop', 'Type of job performed': 'JobTyp',\n",
    "                     'Type of Housing':'HouseT','Number of years of stay in current address': 'NOE','Loan Defaulted or not': 'prediction'}, inplace = True)"
   ]
  },
  {
   "cell_type": "code",
   "execution_count": 174,
   "id": "30bae7ba",
   "metadata": {},
   "outputs": [
    {
     "data": {
      "text/html": [
       "<div>\n",
       "<style scoped>\n",
       "    .dataframe tbody tr th:only-of-type {\n",
       "        vertical-align: middle;\n",
       "    }\n",
       "\n",
       "    .dataframe tbody tr th {\n",
       "        vertical-align: top;\n",
       "    }\n",
       "\n",
       "    .dataframe thead th {\n",
       "        text-align: right;\n",
       "    }\n",
       "</style>\n",
       "<table border=\"1\" class=\"dataframe\">\n",
       "  <thead>\n",
       "    <tr style=\"text-align: right;\">\n",
       "      <th></th>\n",
       "      <th>NPPM</th>\n",
       "      <th>LoanStatus</th>\n",
       "      <th>Objective</th>\n",
       "      <th>Amount</th>\n",
       "      <th>Guarantor</th>\n",
       "      <th>Experience</th>\n",
       "      <th>M_Status</th>\n",
       "      <th>ExistingLoan</th>\n",
       "      <th>Age</th>\n",
       "      <th>CA_Balance</th>\n",
       "      <th>SA_Balance</th>\n",
       "      <th>PI_Payment</th>\n",
       "      <th>WorkAB</th>\n",
       "      <th>PhN</th>\n",
       "      <th>Tenure</th>\n",
       "      <th>prop</th>\n",
       "      <th>JobTyp</th>\n",
       "      <th>HouseT</th>\n",
       "      <th>NOE</th>\n",
       "      <th>prediction</th>\n",
       "    </tr>\n",
       "  </thead>\n",
       "  <tbody>\n",
       "    <tr>\n",
       "      <th>0</th>\n",
       "      <td>1</td>\n",
       "      <td>critical account/other loans existing (not at ...</td>\n",
       "      <td>New Car Purchase</td>\n",
       "      <td>1028</td>\n",
       "      <td>none</td>\n",
       "      <td>between 1 and 4 years</td>\n",
       "      <td>female and divorced/seperated/married</td>\n",
       "      <td>2</td>\n",
       "      <td>36</td>\n",
       "      <td>no current account</td>\n",
       "      <td>less than 100</td>\n",
       "      <td>4</td>\n",
       "      <td>Yes</td>\n",
       "      <td>No</td>\n",
       "      <td>18</td>\n",
       "      <td>Real Estate</td>\n",
       "      <td>skilled employee / official</td>\n",
       "      <td>own</td>\n",
       "      <td>3</td>\n",
       "      <td>1</td>\n",
       "    </tr>\n",
       "    <tr>\n",
       "      <th>1</th>\n",
       "      <td>1</td>\n",
       "      <td>existing loans paid back duly till now</td>\n",
       "      <td>Purchase of radio/television</td>\n",
       "      <td>10222</td>\n",
       "      <td>none</td>\n",
       "      <td>greater than 4 years</td>\n",
       "      <td>male and single</td>\n",
       "      <td>1</td>\n",
       "      <td>37</td>\n",
       "      <td>no current account</td>\n",
       "      <td>no savings account</td>\n",
       "      <td>4</td>\n",
       "      <td>Yes</td>\n",
       "      <td>Yes</td>\n",
       "      <td>48</td>\n",
       "      <td>car or other property</td>\n",
       "      <td>skilled employee / official</td>\n",
       "      <td>own</td>\n",
       "      <td>3</td>\n",
       "      <td>1</td>\n",
       "    </tr>\n",
       "    <tr>\n",
       "      <th>2</th>\n",
       "      <td>1</td>\n",
       "      <td>existing loans paid back duly till now</td>\n",
       "      <td>Purchase of radio/television</td>\n",
       "      <td>701</td>\n",
       "      <td>none</td>\n",
       "      <td>between 1 and 4 years</td>\n",
       "      <td>male and married/widowed</td>\n",
       "      <td>1</td>\n",
       "      <td>40</td>\n",
       "      <td>less than 0</td>\n",
       "      <td>less than 100</td>\n",
       "      <td>4</td>\n",
       "      <td>Yes</td>\n",
       "      <td>No</td>\n",
       "      <td>12</td>\n",
       "      <td>Real Estate</td>\n",
       "      <td>unskilled - resident</td>\n",
       "      <td>own</td>\n",
       "      <td>2</td>\n",
       "      <td>1</td>\n",
       "    </tr>\n",
       "    <tr>\n",
       "      <th>3</th>\n",
       "      <td>1</td>\n",
       "      <td>existing loans paid back duly till now</td>\n",
       "      <td>Purchase of radio/television</td>\n",
       "      <td>1670</td>\n",
       "      <td>none</td>\n",
       "      <td>less than a year</td>\n",
       "      <td>female and divorced/seperated/married</td>\n",
       "      <td>1</td>\n",
       "      <td>22</td>\n",
       "      <td>between 0 and 200</td>\n",
       "      <td>less than 100</td>\n",
       "      <td>4</td>\n",
       "      <td>Yes</td>\n",
       "      <td>Yes</td>\n",
       "      <td>9</td>\n",
       "      <td>car or other property</td>\n",
       "      <td>skilled employee / official</td>\n",
       "      <td>own</td>\n",
       "      <td>2</td>\n",
       "      <td>2</td>\n",
       "    </tr>\n",
       "    <tr>\n",
       "      <th>4</th>\n",
       "      <td>1</td>\n",
       "      <td>critical account/other loans existing (not at ...</td>\n",
       "      <td>New Car Purchase</td>\n",
       "      <td>1163</td>\n",
       "      <td>none</td>\n",
       "      <td>between 1 and 4 years</td>\n",
       "      <td>male and single</td>\n",
       "      <td>1</td>\n",
       "      <td>44</td>\n",
       "      <td>no current account</td>\n",
       "      <td>between 500 and 1000</td>\n",
       "      <td>4</td>\n",
       "      <td>Yes</td>\n",
       "      <td>Yes</td>\n",
       "      <td>12</td>\n",
       "      <td>Real Estate</td>\n",
       "      <td>skilled employee / official</td>\n",
       "      <td>own</td>\n",
       "      <td>4</td>\n",
       "      <td>1</td>\n",
       "    </tr>\n",
       "  </tbody>\n",
       "</table>\n",
       "</div>"
      ],
      "text/plain": [
       "   NPPM                                         LoanStatus  \\\n",
       "0     1  critical account/other loans existing (not at ...   \n",
       "1     1             existing loans paid back duly till now   \n",
       "2     1             existing loans paid back duly till now   \n",
       "3     1             existing loans paid back duly till now   \n",
       "4     1  critical account/other loans existing (not at ...   \n",
       "\n",
       "                      Objective  Amount Guarantor             Experience  \\\n",
       "0              New Car Purchase    1028      none  between 1 and 4 years   \n",
       "1  Purchase of radio/television   10222      none   greater than 4 years   \n",
       "2  Purchase of radio/television     701      none  between 1 and 4 years   \n",
       "3  Purchase of radio/television    1670      none       less than a year   \n",
       "4              New Car Purchase    1163      none  between 1 and 4 years   \n",
       "\n",
       "                                M_Status  ExistingLoan  Age  \\\n",
       "0  female and divorced/seperated/married             2   36   \n",
       "1                        male and single             1   37   \n",
       "2               male and married/widowed             1   40   \n",
       "3  female and divorced/seperated/married             1   22   \n",
       "4                        male and single             1   44   \n",
       "\n",
       "           CA_Balance            SA_Balance  PI_Payment WorkAB  PhN  Tenure  \\\n",
       "0  no current account         less than 100           4    Yes   No      18   \n",
       "1  no current account    no savings account           4    Yes  Yes      48   \n",
       "2         less than 0         less than 100           4    Yes   No      12   \n",
       "3   between 0 and 200         less than 100           4    Yes  Yes       9   \n",
       "4  no current account  between 500 and 1000           4    Yes  Yes      12   \n",
       "\n",
       "                    prop                       JobTyp HouseT  NOE  prediction  \n",
       "0            Real Estate  skilled employee / official    own    3           1  \n",
       "1  car or other property  skilled employee / official    own    3           1  \n",
       "2            Real Estate         unskilled - resident    own    2           1  \n",
       "3  car or other property  skilled employee / official    own    2           2  \n",
       "4            Real Estate  skilled employee / official    own    4           1  "
      ]
     },
     "execution_count": 174,
     "metadata": {},
     "output_type": "execute_result"
    }
   ],
   "source": [
    "df.head()"
   ]
  },
  {
   "cell_type": "code",
   "execution_count": 175,
   "id": "71b9c85c",
   "metadata": {},
   "outputs": [],
   "source": [
    "Name_of_Input = {'Number of people who will provide maintenance':'NPPM','Purpose of taking loan': 'Objective',\n",
    "                     'loan amount taken': 'Amount','Guarantor or Debtor': 'Guarantor','Loan History':'LoanStatus',\n",
    "                     'Number of years of employment': 'Experience','Marital Status' : 'M_Status','Number of loans taken from current bank': 'ExistingLoan',\n",
    "                     'Age of the applicant in Number of Years': 'Age','amount in current account': 'CA_Balance',\n",
    "                     'amount in savings account': 'SA_Balance','% of income paid as installment': 'PI_Payment',\n",
    "                     'Working abroad or not': 'WorkAB', 'Is there telephone number available': 'PhN',\n",
    "                     'time duration for loan': 'Tenure', 'Owned property': 'prop', 'Type of job performed': 'JobTyp',\n",
    "                     'Type of Housing':'HouseT','Number of years of stay in current address': 'NOE','Loan Defaulted or not': 'prediction'}"
   ]
  },
  {
   "cell_type": "code",
   "execution_count": 176,
   "id": "16f39d5f",
   "metadata": {
    "scrolled": true
   },
   "outputs": [
    {
     "data": {
      "text/plain": [
       "20"
      ]
     },
     "execution_count": 176,
     "metadata": {},
     "output_type": "execute_result"
    }
   ],
   "source": [
    "len(Name_of_Input)"
   ]
  },
  {
   "cell_type": "code",
   "execution_count": 177,
   "id": "21b76452",
   "metadata": {
    "scrolled": true
   },
   "outputs": [
    {
     "data": {
      "text/html": [
       "<div>\n",
       "<style scoped>\n",
       "    .dataframe tbody tr th:only-of-type {\n",
       "        vertical-align: middle;\n",
       "    }\n",
       "\n",
       "    .dataframe tbody tr th {\n",
       "        vertical-align: top;\n",
       "    }\n",
       "\n",
       "    .dataframe thead th {\n",
       "        text-align: right;\n",
       "    }\n",
       "</style>\n",
       "<table border=\"1\" class=\"dataframe\">\n",
       "  <thead>\n",
       "    <tr style=\"text-align: right;\">\n",
       "      <th></th>\n",
       "      <th>Number of people who will provide maintenance</th>\n",
       "      <th>Purpose of taking loan</th>\n",
       "      <th>loan amount taken</th>\n",
       "      <th>Guarantor or Debtor</th>\n",
       "      <th>Loan History</th>\n",
       "      <th>Number of years of employment</th>\n",
       "      <th>Marital Status</th>\n",
       "      <th>Number of loans taken from current bank</th>\n",
       "      <th>Age of the applicant in Number of Years</th>\n",
       "      <th>amount in current account</th>\n",
       "      <th>amount in savings account</th>\n",
       "      <th>% of income paid as installment</th>\n",
       "      <th>Working abroad or not</th>\n",
       "      <th>Is there telephone number available</th>\n",
       "      <th>time duration for loan</th>\n",
       "      <th>Owned property</th>\n",
       "      <th>Type of job performed</th>\n",
       "      <th>Type of Housing</th>\n",
       "      <th>Number of years of stay in current address</th>\n",
       "      <th>Loan Defaulted or not</th>\n",
       "    </tr>\n",
       "  </thead>\n",
       "  <tbody>\n",
       "    <tr>\n",
       "      <th>0</th>\n",
       "      <td>NPPM</td>\n",
       "      <td>Objective</td>\n",
       "      <td>Amount</td>\n",
       "      <td>Guarantor</td>\n",
       "      <td>LoanStatus</td>\n",
       "      <td>Experience</td>\n",
       "      <td>M_Status</td>\n",
       "      <td>ExistingLoan</td>\n",
       "      <td>Age</td>\n",
       "      <td>CA_Balance</td>\n",
       "      <td>SA_Balance</td>\n",
       "      <td>PI_Payment</td>\n",
       "      <td>WorkAB</td>\n",
       "      <td>PhN</td>\n",
       "      <td>Tenure</td>\n",
       "      <td>prop</td>\n",
       "      <td>JobTyp</td>\n",
       "      <td>HouseT</td>\n",
       "      <td>NOE</td>\n",
       "      <td>prediction</td>\n",
       "    </tr>\n",
       "  </tbody>\n",
       "</table>\n",
       "</div>"
      ],
      "text/plain": [
       "  Number of people who will provide maintenance Purpose of taking loan  \\\n",
       "0                                          NPPM              Objective   \n",
       "\n",
       "  loan amount taken Guarantor or Debtor Loan History  \\\n",
       "0            Amount           Guarantor   LoanStatus   \n",
       "\n",
       "  Number of years of employment Marital Status  \\\n",
       "0                    Experience       M_Status   \n",
       "\n",
       "  Number of loans taken from current bank  \\\n",
       "0                            ExistingLoan   \n",
       "\n",
       "  Age of the applicant in Number of Years amount in current account  \\\n",
       "0                                     Age                CA_Balance   \n",
       "\n",
       "  amount in savings account % of income paid as installment  \\\n",
       "0                SA_Balance                      PI_Payment   \n",
       "\n",
       "  Working abroad or not Is there telephone number available  \\\n",
       "0                WorkAB                                 PhN   \n",
       "\n",
       "  time duration for loan Owned property Type of job performed Type of Housing  \\\n",
       "0                 Tenure           prop                JobTyp          HouseT   \n",
       "\n",
       "  Number of years of stay in current address Loan Defaulted or not  \n",
       "0                                        NOE            prediction  "
      ]
     },
     "execution_count": 177,
     "metadata": {},
     "output_type": "execute_result"
    }
   ],
   "source": [
    "temp = pd.DataFrame(Name_of_Input,index=[0])\n",
    "temp.head()"
   ]
  },
  {
   "cell_type": "code",
   "execution_count": 78,
   "id": "0652d2e7",
   "metadata": {},
   "outputs": [
    {
     "ename": "AttributeError",
     "evalue": "'DataFrame' object has no attribute 'unique'",
     "output_type": "error",
     "traceback": [
      "\u001b[0;31m---------------------------------------------------------------------------\u001b[0m",
      "\u001b[0;31mAttributeError\u001b[0m                            Traceback (most recent call last)",
      "\u001b[0;32m/var/folders/rf/qpg48nmj40j_kst8hsc4pxk40000gn/T/ipykernel_2213/1660334235.py\u001b[0m in \u001b[0;36m<module>\u001b[0;34m\u001b[0m\n\u001b[0;32m----> 1\u001b[0;31m \u001b[0mdf\u001b[0m\u001b[0;34m.\u001b[0m\u001b[0munique\u001b[0m\u001b[0;34m(\u001b[0m\u001b[0;34m)\u001b[0m\u001b[0;34m\u001b[0m\u001b[0;34m\u001b[0m\u001b[0m\n\u001b[0m",
      "\u001b[0;32m~/miniforge3/lib/python3.9/site-packages/pandas/core/generic.py\u001b[0m in \u001b[0;36m__getattr__\u001b[0;34m(self, name)\u001b[0m\n\u001b[1;32m   5581\u001b[0m         ):\n\u001b[1;32m   5582\u001b[0m             \u001b[0;32mreturn\u001b[0m \u001b[0mself\u001b[0m\u001b[0;34m[\u001b[0m\u001b[0mname\u001b[0m\u001b[0;34m]\u001b[0m\u001b[0;34m\u001b[0m\u001b[0;34m\u001b[0m\u001b[0m\n\u001b[0;32m-> 5583\u001b[0;31m         \u001b[0;32mreturn\u001b[0m \u001b[0mobject\u001b[0m\u001b[0;34m.\u001b[0m\u001b[0m__getattribute__\u001b[0m\u001b[0;34m(\u001b[0m\u001b[0mself\u001b[0m\u001b[0;34m,\u001b[0m \u001b[0mname\u001b[0m\u001b[0;34m)\u001b[0m\u001b[0;34m\u001b[0m\u001b[0;34m\u001b[0m\u001b[0m\n\u001b[0m\u001b[1;32m   5584\u001b[0m \u001b[0;34m\u001b[0m\u001b[0m\n\u001b[1;32m   5585\u001b[0m     \u001b[0;32mdef\u001b[0m \u001b[0m__setattr__\u001b[0m\u001b[0;34m(\u001b[0m\u001b[0mself\u001b[0m\u001b[0;34m,\u001b[0m \u001b[0mname\u001b[0m\u001b[0;34m:\u001b[0m \u001b[0mstr\u001b[0m\u001b[0;34m,\u001b[0m \u001b[0mvalue\u001b[0m\u001b[0;34m)\u001b[0m \u001b[0;34m->\u001b[0m \u001b[0;32mNone\u001b[0m\u001b[0;34m:\u001b[0m\u001b[0;34m\u001b[0m\u001b[0;34m\u001b[0m\u001b[0m\n",
      "\u001b[0;31mAttributeError\u001b[0m: 'DataFrame' object has no attribute 'unique'"
     ]
    }
   ],
   "source": [
    "df['Objective'].unique()"
   ]
  },
  {
   "cell_type": "code",
   "execution_count": 189,
   "id": "8a85d84a",
   "metadata": {},
   "outputs": [],
   "source": [
    "df = df.dropna()"
   ]
  },
  {
   "cell_type": "code",
   "execution_count": 191,
   "id": "2083477c",
   "metadata": {},
   "outputs": [
    {
     "data": {
      "text/plain": [
       "NPPM            0\n",
       "LoanStatus      0\n",
       "Objective       0\n",
       "Amount          0\n",
       "Guarantor       0\n",
       "Experience      0\n",
       "M_Status        0\n",
       "ExistingLoan    0\n",
       "Age             0\n",
       "CA_Balance      0\n",
       "SA_Balance      0\n",
       "PI_Payment      0\n",
       "WorkAB          0\n",
       "PhN             0\n",
       "Tenure          0\n",
       "prop            0\n",
       "JobTyp          0\n",
       "HouseT          0\n",
       "NOE             0\n",
       "prediction      0\n",
       "dtype: int64"
      ]
     },
     "execution_count": 191,
     "metadata": {},
     "output_type": "execute_result"
    }
   ],
   "source": [
    "df.isna().sum()"
   ]
  },
  {
   "cell_type": "code",
   "execution_count": 178,
   "id": "c6df2d95",
   "metadata": {},
   "outputs": [
    {
     "name": "stdout",
     "output_type": "stream",
     "text": [
      "#-------------------------------#\n",
      "Number of people who will provide maintenance\n",
      "[1 2]\n",
      "#-------------------------------#\n",
      "Purpose of taking loan\n",
      "['New Car Purchase' 'Purchase of radio/television' 'Old Car Repair'\n",
      " 'Purchase of furniture/equipment' 'Other repairs' 'Education Loan'\n",
      " 'Loan for business establishment' nan 'Loan for retraining'\n",
      " 'Purchase of domestic appliances']\n",
      "#-------------------------------#\n",
      "loan amount taken\n",
      "[ 1028 10222   701  1670  1163  2325 10477  2862 10127  2659  1533  1231\n",
      "   804  3632  1543  4454  1549   683  2671   685  1377  8386  3105  8335\n",
      "  1766  1555  1098  1316  5129  2462  1505  1680  3595  3949  1364  1935\n",
      "   609  2910  1388   433  1228  6836  5801   907  3590   795  7582  7485\n",
      "  1474  2930  3872  3656  4576  1050  1376  1372  1287  5943  3108  1049\n",
      "  7472  1216  2957  3049  3190  3939  1082  2579  1924  3485  3959  1308\n",
      "  2241  3017  1209  1569  1203   276  1422  3229   754  6070  1927  6204\n",
      "  3990   625  1424  2337  1845  1433  1204  4526  2333  1655  7678  4370\n",
      "  9271  3077  1155  2136   790  3249  2145  5103  6458  1410  2246   626\n",
      " 12169  4594  1437  2012  2101  2978  9157  3060  6887  1299  2759  1842\n",
      "  3578  1206  3394  1068  1288   727  1657  5045  1542 11328  1965  3757\n",
      "  6304  1819  3357   338  1538  3213  3414  2080  3149   753  2679  3905\n",
      "   960  8947  4272  1936  1530   915  1967  2924  6313   362  3001  1352\n",
      "  1453   652  3343   996  1534  1361  2384  7763  7253  4844  9857 11938\n",
      "  2223  3651 15672  4530   888  1493   409  2825  6288  1979  4623  1258\n",
      "  6615  1721  3804  2859  1131  1275  1175  5742  5842  1240  4221  1048\n",
      "  1126   936  1795  4308  1797  3832   959  4241  2751  1154  1597  1221\n",
      "  3979  1620  2964  3509  2631  2225   806  1881  1860  2118  1264  2848\n",
      "  2319  2745  2901  1358  1503  3092  1374  3711   766  3069  3430  1715\n",
      "  1024  3447  1301 11054  3972  3448  1568  3123   874  1188  3331  3368\n",
      "  2578  4675  1274  3031  1224  3913  1338  3021 11998   947  4473  2039\n",
      "  1913  2108  6078  2331  3345  2463  1412   385  2476  2063   672   958\n",
      "  1037  3398  3384  2100  2394  2389  2577   518  3622  1501  2058  1953\n",
      "  3441  1480  1572  3573  2366  1355  2249 11560  2255  7432   368  3676\n",
      "  4351  4811  1236  1898  3863  2712  1449  1193  1239  1823  9566  1520\n",
      "  4843  7174  2799  4788   860  3342  7119  4933  1371  8858  4153  6761\n",
      "  2096 10961   522  7238  1107  7882   950  3599  9055  4795  1574  2670\n",
      "  3620  1333  7629  1300  7057  3973  2415  7865  3488  1516  5595  2212\n",
      "  1471  3244  4439  1123 14896  6361  2445  5293   750  3556  1346  2439\n",
      "   900  2320  3275  1577  2473  1995  2625  2872  1546  5324  2028  8358\n",
      "  1743   717   846  2611  5248  4686  2606   841  2064  9398   759   797\n",
      "  2746  2171  1158   708   926  1295  6229  1963  1330  4113  1225  7374\n",
      "  1514  4817  8588  1414  1484  6314  1957  3643 14318  7758  3650  5493\n",
      "  3512  2022  7409  2353  1343  3114  3749   929  1136  4605  4455  1393\n",
      "  1413  5954  1047  2753  3594  1864  1331  2522   343  4042  1237  2779\n",
      "  2247  1199  2301 12976  2675   590  5511   884  4297  1386  1659  5804\n",
      "  1313  8133 10144  2146  1901 10297  2406  2251  1925  1076  5771  2002\n",
      "   731  2116  2629  1455  2687   760  1469  2134  1309  8648  1943   458\n",
      "   894  2923  2762  2613  2150   976  1592  4151  6872  1768  1382  1207\n",
      "  3844  7824  1168  1053  1940  1938  1984 13756   684  1217  1042  5951\n",
      "  1591  1544  4870  6468  3660  1169  5800  5179  1318  1922  1345  7855\n",
      "  7408  1559  5866  5433  3124  2442  2864  1980  1101 11816  3499   585\n",
      "  8086  1038  3518   709  1344  8978  1200  3780  1872  2538  2149  2360\n",
      "  7814  1246  3074  2169  1238  3931  3416  1800  3652  1755  6110  3386\n",
      "  6560  1347  1525  1285  2299  3966  2647  6527   836  1418  6403  1905\n",
      "  1567   909   902  1092  2186   937  2520  2748  9277  5381  3235  1291\n",
      "  1403  4057  1867  2969  5743  2375  1747  4463  1808  1882   745  1223\n",
      " 12204 10875  1473  2073 14782  3062 15653  1255  3835   802]\n",
      "#-------------------------------#\n",
      "Guarantor or Debtor\n",
      "['none' 'gaurantor' 'co-applicant']\n",
      "#-------------------------------#\n",
      "Loan History\n",
      "['critical account/other loans existing (not at this bank)'\n",
      " 'existing loans paid back duly till now'\n",
      " 'all loans at this bank paid back duly'\n",
      " 'delay in paying off loans in the past'\n",
      " 'no loans taken/all loans paid back duly']\n",
      "#-------------------------------#\n",
      "Number of years of employment\n",
      "['between 1 and 4 years' 'greater than 4 years' 'less than a year' nan\n",
      " 'unemployed']\n",
      "#-------------------------------#\n",
      "Marital Status\n",
      "['female and divorced/seperated/married' 'male and single'\n",
      " 'male and married/widowed' 'male and divorced/seperated']\n",
      "#-------------------------------#\n",
      "Number of loans taken from current bank\n",
      "[2 1 3 4]\n",
      "#-------------------------------#\n",
      "Age of the applicant in Number of Years\n",
      "[36 37 40 22 44 32 42 30 28 38 57 33 34 35 29 50 25 47 49 21 55 65 74 59\n",
      " 43 26 24 63 53 31 27 67 45 48 23 66 39 60 61 46 62 52 56 64 20 41 75 68\n",
      " 54 58 51 19]\n",
      "#-------------------------------#\n",
      "amount in current account\n",
      "['no current account' 'less than 0' 'between 0 and 200' 'greater than 200']\n",
      "#-------------------------------#\n",
      "amount in savings account\n",
      "['less than 100' 'no savings account' 'between 500 and 1000'\n",
      " 'between 100 and 500' 'greater than 1000']\n",
      "#-------------------------------#\n",
      "% of income paid as installment\n",
      "[4 2 1 3]\n",
      "#-------------------------------#\n",
      "Working abroad or not\n",
      "['Yes' 'No']\n",
      "#-------------------------------#\n",
      "Is there telephone number available\n",
      "['No' 'Yes']\n",
      "#-------------------------------#\n",
      "time duration for loan\n",
      "[18 48 12  9 24 36  6 30 15 10 60  8 45 11 20 21 42 14 13 33 16 27  5 39\n",
      "  7 72  4 22 28]\n",
      "#-------------------------------#\n",
      "Owned property\n",
      "['Real Estate' 'car or other property' 'No property'\n",
      " 'building society savings agreement/life insurance']\n",
      "#-------------------------------#\n",
      "Type of job performed\n",
      "['skilled employee / official' 'unskilled - resident'\n",
      " 'management/ self-employed/highly qualified employee/ officer'\n",
      " 'unemployed/ unskilled - non-resident']\n",
      "#-------------------------------#\n",
      "Type of Housing\n",
      "['own' 'for free' 'rent']\n",
      "#-------------------------------#\n",
      "Number of years of stay in current address\n",
      "[3 2 4 1]\n",
      "#-------------------------------#\n",
      "Loan Defaulted or not\n",
      "[1 2]\n"
     ]
    }
   ],
   "source": [
    "for i in Name_of_Input:\n",
    "    print(\"#-------------------------------#\")\n",
    "    print(i)\n",
    "    print(df[Name_of_Input[i]].unique())\n",
    "#     print(\"#-------------------------------#\")"
   ]
  },
  {
   "cell_type": "code",
   "execution_count": 192,
   "id": "9ae275b3",
   "metadata": {},
   "outputs": [],
   "source": [
    "df.Objective = df.Objective.replace({\"New Car Purchase\": 0, \"Purchase of radio/television\" : 1,'Purchase of furniture/equipment' : 2,'Old Car Repair': 3,'Education Loan': 4,\n",
    "                                    'Loan for business establishment': 5,'Other repairs': 6,'Purchase of domestic appliances': 7,'Loan for retraining': 8})\n",
    "\n",
    "df.Guarantor = df.Guarantor.replace({'none' : 0,'gaurantor' : 1,'co-applicant':  2})\n",
    "\n",
    "df.LoanStatus = df.LoanStatus.replace({'critical account/other loans existing (not at this bank)' : 0,'existing loans paid back duly till now' : 1,'all loans at this bank paid back duly':  2,'delay in paying off loans in the past' : 3,\n",
    "                                       'no loans taken/all loans paid back duly': 4})\n",
    "\n",
    "df.Experience = df.Experience.replace({'between 1 and 4 years': 0, 'greater than 4 years': 1,'less than a year': 2,'unemployed': 3})\n",
    "\n",
    "df.M_Status = df.M_Status.replace({'female and divorced/seperated/married': 0,'male and single': 1,'male and married/widowed': 2,\n",
    "                                  'male and divorced/seperated': 3})\n",
    "\n",
    "df.CA_Balance = df.CA_Balance.replace({'no current account': 0,'less than 0': 1,'between 0 and 200': 3,'greater than 200': 4})\n",
    "\n",
    "df.SA_Balance = df.SA_Balance.replace({'less than 100': 0,'no savings account': 1,'between 500 and 1000': 2,\n",
    "                                      'between 100 and 500': 3,'greater than 1000': 4})\n",
    "\n",
    "df.WorkAB = df.WorkAB.replace({'Yes': 1,'No': 0})\n",
    "\n",
    "df.PhN = df.PhN.replace({'Yes': 1,'No': 0})\n",
    "\n",
    "df.prop = df.prop.replace({'Real Estate': 0,'car or other property': 1,'No property': 2,'building society savings agreement/life insurance': 3})\n",
    "\n",
    "df.JobTyp = df.JobTyp.replace({'skilled employee / official': 0,'unskilled - resident': 1,'unemployed/ unskilled - non-resident': 2,'management/ self-employed/highly qualified employee/ officer': 3})\n",
    "\n",
    "df.HouseT = df.HouseT.replace({'own': 0,'for free': 1,'rent': 3})\n",
    "\n",
    "df.prediction = df.prediction.replace({2 : 0})"
   ]
  },
  {
   "cell_type": "code",
   "execution_count": 180,
   "id": "0548826c",
   "metadata": {},
   "outputs": [
    {
     "data": {
      "text/plain": [
       "array([1, 0])"
      ]
     },
     "execution_count": 180,
     "metadata": {},
     "output_type": "execute_result"
    }
   ],
   "source": [
    "df['prediction'].unique()"
   ]
  },
  {
   "cell_type": "code",
   "execution_count": 181,
   "id": "53afab12",
   "metadata": {},
   "outputs": [
    {
     "data": {
      "text/plain": [
       "NPPM              0\n",
       "LoanStatus        0\n",
       "Objective         9\n",
       "Amount            0\n",
       "Guarantor         0\n",
       "Experience      153\n",
       "M_Status          0\n",
       "ExistingLoan      0\n",
       "Age               0\n",
       "CA_Balance        0\n",
       "SA_Balance        0\n",
       "PI_Payment        0\n",
       "WorkAB            0\n",
       "PhN               0\n",
       "Tenure            0\n",
       "prop              0\n",
       "JobTyp            0\n",
       "HouseT            0\n",
       "NOE               0\n",
       "prediction        0\n",
       "dtype: int64"
      ]
     },
     "execution_count": 181,
     "metadata": {},
     "output_type": "execute_result"
    }
   ],
   "source": [
    "df.isna().sum()"
   ]
  },
  {
   "cell_type": "code",
   "execution_count": 193,
   "id": "cc9e0ced",
   "metadata": {},
   "outputs": [],
   "source": [
    "from sklearn.linear_model import LogisticRegression\n",
    "from sklearn.model_selection import train_test_split\n",
    "from sklearn.metrics import accuracy_score"
   ]
  },
  {
   "cell_type": "code",
   "execution_count": 194,
   "id": "8608d47e",
   "metadata": {},
   "outputs": [],
   "source": [
    "X = df.drop(['prediction'],axis=1)\n",
    "Y = df['prediction']"
   ]
  },
  {
   "cell_type": "code",
   "execution_count": 307,
   "id": "a3e68e14",
   "metadata": {},
   "outputs": [
    {
     "data": {
      "text/html": [
       "<div>\n",
       "<style scoped>\n",
       "    .dataframe tbody tr th:only-of-type {\n",
       "        vertical-align: middle;\n",
       "    }\n",
       "\n",
       "    .dataframe tbody tr th {\n",
       "        vertical-align: top;\n",
       "    }\n",
       "\n",
       "    .dataframe thead th {\n",
       "        text-align: right;\n",
       "    }\n",
       "</style>\n",
       "<table border=\"1\" class=\"dataframe\">\n",
       "  <thead>\n",
       "    <tr style=\"text-align: right;\">\n",
       "      <th></th>\n",
       "      <th>NPPM</th>\n",
       "      <th>LoanStatus</th>\n",
       "      <th>Objective</th>\n",
       "      <th>Amount</th>\n",
       "      <th>Guarantor</th>\n",
       "      <th>Experience</th>\n",
       "      <th>M_Status</th>\n",
       "      <th>ExistingLoan</th>\n",
       "      <th>Age</th>\n",
       "      <th>CA_Balance</th>\n",
       "      <th>SA_Balance</th>\n",
       "      <th>PI_Payment</th>\n",
       "      <th>WorkAB</th>\n",
       "      <th>PhN</th>\n",
       "      <th>Tenure</th>\n",
       "      <th>prop</th>\n",
       "      <th>JobTyp</th>\n",
       "      <th>HouseT</th>\n",
       "      <th>NOE</th>\n",
       "    </tr>\n",
       "  </thead>\n",
       "  <tbody>\n",
       "    <tr>\n",
       "      <th>0</th>\n",
       "      <td>1</td>\n",
       "      <td>0</td>\n",
       "      <td>0.0</td>\n",
       "      <td>1028</td>\n",
       "      <td>0</td>\n",
       "      <td>0.0</td>\n",
       "      <td>0</td>\n",
       "      <td>2</td>\n",
       "      <td>36</td>\n",
       "      <td>0</td>\n",
       "      <td>0</td>\n",
       "      <td>4</td>\n",
       "      <td>1</td>\n",
       "      <td>0</td>\n",
       "      <td>18</td>\n",
       "      <td>0</td>\n",
       "      <td>0</td>\n",
       "      <td>0</td>\n",
       "      <td>3</td>\n",
       "    </tr>\n",
       "    <tr>\n",
       "      <th>1</th>\n",
       "      <td>1</td>\n",
       "      <td>1</td>\n",
       "      <td>1.0</td>\n",
       "      <td>10222</td>\n",
       "      <td>0</td>\n",
       "      <td>1.0</td>\n",
       "      <td>1</td>\n",
       "      <td>1</td>\n",
       "      <td>37</td>\n",
       "      <td>0</td>\n",
       "      <td>1</td>\n",
       "      <td>4</td>\n",
       "      <td>1</td>\n",
       "      <td>1</td>\n",
       "      <td>48</td>\n",
       "      <td>1</td>\n",
       "      <td>0</td>\n",
       "      <td>0</td>\n",
       "      <td>3</td>\n",
       "    </tr>\n",
       "    <tr>\n",
       "      <th>2</th>\n",
       "      <td>1</td>\n",
       "      <td>1</td>\n",
       "      <td>1.0</td>\n",
       "      <td>701</td>\n",
       "      <td>0</td>\n",
       "      <td>0.0</td>\n",
       "      <td>2</td>\n",
       "      <td>1</td>\n",
       "      <td>40</td>\n",
       "      <td>1</td>\n",
       "      <td>0</td>\n",
       "      <td>4</td>\n",
       "      <td>1</td>\n",
       "      <td>0</td>\n",
       "      <td>12</td>\n",
       "      <td>0</td>\n",
       "      <td>1</td>\n",
       "      <td>0</td>\n",
       "      <td>2</td>\n",
       "    </tr>\n",
       "    <tr>\n",
       "      <th>3</th>\n",
       "      <td>1</td>\n",
       "      <td>1</td>\n",
       "      <td>1.0</td>\n",
       "      <td>1670</td>\n",
       "      <td>0</td>\n",
       "      <td>2.0</td>\n",
       "      <td>0</td>\n",
       "      <td>1</td>\n",
       "      <td>22</td>\n",
       "      <td>3</td>\n",
       "      <td>0</td>\n",
       "      <td>4</td>\n",
       "      <td>1</td>\n",
       "      <td>1</td>\n",
       "      <td>9</td>\n",
       "      <td>1</td>\n",
       "      <td>0</td>\n",
       "      <td>0</td>\n",
       "      <td>2</td>\n",
       "    </tr>\n",
       "    <tr>\n",
       "      <th>4</th>\n",
       "      <td>1</td>\n",
       "      <td>0</td>\n",
       "      <td>0.0</td>\n",
       "      <td>1163</td>\n",
       "      <td>0</td>\n",
       "      <td>0.0</td>\n",
       "      <td>1</td>\n",
       "      <td>1</td>\n",
       "      <td>44</td>\n",
       "      <td>0</td>\n",
       "      <td>2</td>\n",
       "      <td>4</td>\n",
       "      <td>1</td>\n",
       "      <td>1</td>\n",
       "      <td>12</td>\n",
       "      <td>0</td>\n",
       "      <td>0</td>\n",
       "      <td>0</td>\n",
       "      <td>4</td>\n",
       "    </tr>\n",
       "    <tr>\n",
       "      <th>...</th>\n",
       "      <td>...</td>\n",
       "      <td>...</td>\n",
       "      <td>...</td>\n",
       "      <td>...</td>\n",
       "      <td>...</td>\n",
       "      <td>...</td>\n",
       "      <td>...</td>\n",
       "      <td>...</td>\n",
       "      <td>...</td>\n",
       "      <td>...</td>\n",
       "      <td>...</td>\n",
       "      <td>...</td>\n",
       "      <td>...</td>\n",
       "      <td>...</td>\n",
       "      <td>...</td>\n",
       "      <td>...</td>\n",
       "      <td>...</td>\n",
       "      <td>...</td>\n",
       "      <td>...</td>\n",
       "    </tr>\n",
       "    <tr>\n",
       "      <th>589</th>\n",
       "      <td>1</td>\n",
       "      <td>4</td>\n",
       "      <td>5.0</td>\n",
       "      <td>12204</td>\n",
       "      <td>0</td>\n",
       "      <td>0.0</td>\n",
       "      <td>1</td>\n",
       "      <td>1</td>\n",
       "      <td>48</td>\n",
       "      <td>3</td>\n",
       "      <td>1</td>\n",
       "      <td>2</td>\n",
       "      <td>1</td>\n",
       "      <td>1</td>\n",
       "      <td>48</td>\n",
       "      <td>1</td>\n",
       "      <td>3</td>\n",
       "      <td>0</td>\n",
       "      <td>2</td>\n",
       "    </tr>\n",
       "    <tr>\n",
       "      <th>591</th>\n",
       "      <td>1</td>\n",
       "      <td>1</td>\n",
       "      <td>1.0</td>\n",
       "      <td>1473</td>\n",
       "      <td>0</td>\n",
       "      <td>2.0</td>\n",
       "      <td>2</td>\n",
       "      <td>1</td>\n",
       "      <td>39</td>\n",
       "      <td>0</td>\n",
       "      <td>0</td>\n",
       "      <td>3</td>\n",
       "      <td>1</td>\n",
       "      <td>1</td>\n",
       "      <td>18</td>\n",
       "      <td>0</td>\n",
       "      <td>0</td>\n",
       "      <td>0</td>\n",
       "      <td>4</td>\n",
       "    </tr>\n",
       "    <tr>\n",
       "      <th>592</th>\n",
       "      <td>1</td>\n",
       "      <td>1</td>\n",
       "      <td>1.0</td>\n",
       "      <td>2073</td>\n",
       "      <td>2</td>\n",
       "      <td>0.0</td>\n",
       "      <td>0</td>\n",
       "      <td>1</td>\n",
       "      <td>28</td>\n",
       "      <td>0</td>\n",
       "      <td>3</td>\n",
       "      <td>4</td>\n",
       "      <td>1</td>\n",
       "      <td>0</td>\n",
       "      <td>12</td>\n",
       "      <td>0</td>\n",
       "      <td>0</td>\n",
       "      <td>0</td>\n",
       "      <td>2</td>\n",
       "    </tr>\n",
       "    <tr>\n",
       "      <th>595</th>\n",
       "      <td>1</td>\n",
       "      <td>3</td>\n",
       "      <td>1.0</td>\n",
       "      <td>15653</td>\n",
       "      <td>0</td>\n",
       "      <td>1.0</td>\n",
       "      <td>1</td>\n",
       "      <td>2</td>\n",
       "      <td>21</td>\n",
       "      <td>0</td>\n",
       "      <td>0</td>\n",
       "      <td>2</td>\n",
       "      <td>1</td>\n",
       "      <td>1</td>\n",
       "      <td>60</td>\n",
       "      <td>1</td>\n",
       "      <td>0</td>\n",
       "      <td>0</td>\n",
       "      <td>4</td>\n",
       "    </tr>\n",
       "    <tr>\n",
       "      <th>599</th>\n",
       "      <td>2</td>\n",
       "      <td>1</td>\n",
       "      <td>0.0</td>\n",
       "      <td>1597</td>\n",
       "      <td>0</td>\n",
       "      <td>0.0</td>\n",
       "      <td>1</td>\n",
       "      <td>1</td>\n",
       "      <td>40</td>\n",
       "      <td>0</td>\n",
       "      <td>2</td>\n",
       "      <td>3</td>\n",
       "      <td>0</td>\n",
       "      <td>0</td>\n",
       "      <td>10</td>\n",
       "      <td>2</td>\n",
       "      <td>1</td>\n",
       "      <td>3</td>\n",
       "      <td>2</td>\n",
       "    </tr>\n",
       "  </tbody>\n",
       "</table>\n",
       "<p>441 rows × 19 columns</p>\n",
       "</div>"
      ],
      "text/plain": [
       "     NPPM  LoanStatus  Objective  Amount  Guarantor  Experience  M_Status  \\\n",
       "0       1           0        0.0    1028          0         0.0         0   \n",
       "1       1           1        1.0   10222          0         1.0         1   \n",
       "2       1           1        1.0     701          0         0.0         2   \n",
       "3       1           1        1.0    1670          0         2.0         0   \n",
       "4       1           0        0.0    1163          0         0.0         1   \n",
       "..    ...         ...        ...     ...        ...         ...       ...   \n",
       "589     1           4        5.0   12204          0         0.0         1   \n",
       "591     1           1        1.0    1473          0         2.0         2   \n",
       "592     1           1        1.0    2073          2         0.0         0   \n",
       "595     1           3        1.0   15653          0         1.0         1   \n",
       "599     2           1        0.0    1597          0         0.0         1   \n",
       "\n",
       "     ExistingLoan  Age  CA_Balance  SA_Balance  PI_Payment  WorkAB  PhN  \\\n",
       "0               2   36           0           0           4       1    0   \n",
       "1               1   37           0           1           4       1    1   \n",
       "2               1   40           1           0           4       1    0   \n",
       "3               1   22           3           0           4       1    1   \n",
       "4               1   44           0           2           4       1    1   \n",
       "..            ...  ...         ...         ...         ...     ...  ...   \n",
       "589             1   48           3           1           2       1    1   \n",
       "591             1   39           0           0           3       1    1   \n",
       "592             1   28           0           3           4       1    0   \n",
       "595             2   21           0           0           2       1    1   \n",
       "599             1   40           0           2           3       0    0   \n",
       "\n",
       "     Tenure  prop  JobTyp  HouseT  NOE  \n",
       "0        18     0       0       0    3  \n",
       "1        48     1       0       0    3  \n",
       "2        12     0       1       0    2  \n",
       "3         9     1       0       0    2  \n",
       "4        12     0       0       0    4  \n",
       "..      ...   ...     ...     ...  ...  \n",
       "589      48     1       3       0    2  \n",
       "591      18     0       0       0    4  \n",
       "592      12     0       0       0    2  \n",
       "595      60     1       0       0    4  \n",
       "599      10     2       1       3    2  \n",
       "\n",
       "[441 rows x 19 columns]"
      ]
     },
     "execution_count": 307,
     "metadata": {},
     "output_type": "execute_result"
    }
   ],
   "source": [
    "X"
   ]
  },
  {
   "cell_type": "code",
   "execution_count": 195,
   "id": "323dac74",
   "metadata": {},
   "outputs": [],
   "source": [
    "X_train, X_test, y_train, y_test = train_test_split(X, Y, test_size=0.2)"
   ]
  },
  {
   "cell_type": "code",
   "execution_count": 196,
   "id": "a702594d",
   "metadata": {},
   "outputs": [
    {
     "name": "stdout",
     "output_type": "stream",
     "text": [
      "Size of X Train:- (352, 19)\n",
      "Size of Y Train:- (352,)\n",
      "Size of X Test:- (89, 19)\n",
      "Size of Y Test:- (89,)\n"
     ]
    }
   ],
   "source": [
    "print(\"Size of X Train:- \" + str(X_train.shape))\n",
    "print(\"Size of Y Train:- \" + str(y_train.shape))\n",
    "print(\"Size of X Test:- \" + str(X_test.shape))\n",
    "print(\"Size of Y Test:- \" + str(y_test.shape))"
   ]
  },
  {
   "cell_type": "markdown",
   "id": "861839d0",
   "metadata": {},
   "source": [
    "## Logistic Regression Model"
   ]
  },
  {
   "cell_type": "code",
   "execution_count": 197,
   "id": "d04574a3",
   "metadata": {},
   "outputs": [],
   "source": [
    "logistic_model = LogisticRegression()"
   ]
  },
  {
   "cell_type": "code",
   "execution_count": 198,
   "id": "73d0b700",
   "metadata": {},
   "outputs": [
    {
     "name": "stderr",
     "output_type": "stream",
     "text": [
      "/Users/hemangjiwnani/miniforge3/lib/python3.9/site-packages/sklearn/linear_model/_logistic.py:444: ConvergenceWarning: lbfgs failed to converge (status=1):\n",
      "STOP: TOTAL NO. of ITERATIONS REACHED LIMIT.\n",
      "\n",
      "Increase the number of iterations (max_iter) or scale the data as shown in:\n",
      "    https://scikit-learn.org/stable/modules/preprocessing.html\n",
      "Please also refer to the documentation for alternative solver options:\n",
      "    https://scikit-learn.org/stable/modules/linear_model.html#logistic-regression\n",
      "  n_iter_i = _check_optimize_result(\n"
     ]
    },
    {
     "data": {
      "text/html": [
       "<style>#sk-container-id-4 {color: black;background-color: white;}#sk-container-id-4 pre{padding: 0;}#sk-container-id-4 div.sk-toggleable {background-color: white;}#sk-container-id-4 label.sk-toggleable__label {cursor: pointer;display: block;width: 100%;margin-bottom: 0;padding: 0.3em;box-sizing: border-box;text-align: center;}#sk-container-id-4 label.sk-toggleable__label-arrow:before {content: \"▸\";float: left;margin-right: 0.25em;color: #696969;}#sk-container-id-4 label.sk-toggleable__label-arrow:hover:before {color: black;}#sk-container-id-4 div.sk-estimator:hover label.sk-toggleable__label-arrow:before {color: black;}#sk-container-id-4 div.sk-toggleable__content {max-height: 0;max-width: 0;overflow: hidden;text-align: left;background-color: #f0f8ff;}#sk-container-id-4 div.sk-toggleable__content pre {margin: 0.2em;color: black;border-radius: 0.25em;background-color: #f0f8ff;}#sk-container-id-4 input.sk-toggleable__control:checked~div.sk-toggleable__content {max-height: 200px;max-width: 100%;overflow: auto;}#sk-container-id-4 input.sk-toggleable__control:checked~label.sk-toggleable__label-arrow:before {content: \"▾\";}#sk-container-id-4 div.sk-estimator input.sk-toggleable__control:checked~label.sk-toggleable__label {background-color: #d4ebff;}#sk-container-id-4 div.sk-label input.sk-toggleable__control:checked~label.sk-toggleable__label {background-color: #d4ebff;}#sk-container-id-4 input.sk-hidden--visually {border: 0;clip: rect(1px 1px 1px 1px);clip: rect(1px, 1px, 1px, 1px);height: 1px;margin: -1px;overflow: hidden;padding: 0;position: absolute;width: 1px;}#sk-container-id-4 div.sk-estimator {font-family: monospace;background-color: #f0f8ff;border: 1px dotted black;border-radius: 0.25em;box-sizing: border-box;margin-bottom: 0.5em;}#sk-container-id-4 div.sk-estimator:hover {background-color: #d4ebff;}#sk-container-id-4 div.sk-parallel-item::after {content: \"\";width: 100%;border-bottom: 1px solid gray;flex-grow: 1;}#sk-container-id-4 div.sk-label:hover label.sk-toggleable__label {background-color: #d4ebff;}#sk-container-id-4 div.sk-serial::before {content: \"\";position: absolute;border-left: 1px solid gray;box-sizing: border-box;top: 0;bottom: 0;left: 50%;z-index: 0;}#sk-container-id-4 div.sk-serial {display: flex;flex-direction: column;align-items: center;background-color: white;padding-right: 0.2em;padding-left: 0.2em;position: relative;}#sk-container-id-4 div.sk-item {position: relative;z-index: 1;}#sk-container-id-4 div.sk-parallel {display: flex;align-items: stretch;justify-content: center;background-color: white;position: relative;}#sk-container-id-4 div.sk-item::before, #sk-container-id-4 div.sk-parallel-item::before {content: \"\";position: absolute;border-left: 1px solid gray;box-sizing: border-box;top: 0;bottom: 0;left: 50%;z-index: -1;}#sk-container-id-4 div.sk-parallel-item {display: flex;flex-direction: column;z-index: 1;position: relative;background-color: white;}#sk-container-id-4 div.sk-parallel-item:first-child::after {align-self: flex-end;width: 50%;}#sk-container-id-4 div.sk-parallel-item:last-child::after {align-self: flex-start;width: 50%;}#sk-container-id-4 div.sk-parallel-item:only-child::after {width: 0;}#sk-container-id-4 div.sk-dashed-wrapped {border: 1px dashed gray;margin: 0 0.4em 0.5em 0.4em;box-sizing: border-box;padding-bottom: 0.4em;background-color: white;}#sk-container-id-4 div.sk-label label {font-family: monospace;font-weight: bold;display: inline-block;line-height: 1.2em;}#sk-container-id-4 div.sk-label-container {text-align: center;}#sk-container-id-4 div.sk-container {/* jupyter's `normalize.less` sets `[hidden] { display: none; }` but bootstrap.min.css set `[hidden] { display: none !important; }` so we also need the `!important` here to be able to override the default hidden behavior on the sphinx rendered scikit-learn.org. See: https://github.com/scikit-learn/scikit-learn/issues/21755 */display: inline-block !important;position: relative;}#sk-container-id-4 div.sk-text-repr-fallback {display: none;}</style><div id=\"sk-container-id-4\" class=\"sk-top-container\"><div class=\"sk-text-repr-fallback\"><pre>LogisticRegression()</pre><b>In a Jupyter environment, please rerun this cell to show the HTML representation or trust the notebook. <br />On GitHub, the HTML representation is unable to render, please try loading this page with nbviewer.org.</b></div><div class=\"sk-container\" hidden><div class=\"sk-item\"><div class=\"sk-estimator sk-toggleable\"><input class=\"sk-toggleable__control sk-hidden--visually\" id=\"sk-estimator-id-4\" type=\"checkbox\" checked><label for=\"sk-estimator-id-4\" class=\"sk-toggleable__label sk-toggleable__label-arrow\">LogisticRegression</label><div class=\"sk-toggleable__content\"><pre>LogisticRegression()</pre></div></div></div></div></div>"
      ],
      "text/plain": [
       "LogisticRegression()"
      ]
     },
     "execution_count": 198,
     "metadata": {},
     "output_type": "execute_result"
    }
   ],
   "source": [
    "logistic_model.fit(X_train, y_train)"
   ]
  },
  {
   "cell_type": "code",
   "execution_count": 199,
   "id": "8ecce7de",
   "metadata": {},
   "outputs": [],
   "source": [
    "predicted = logistic_model.predict(X_test)"
   ]
  },
  {
   "cell_type": "code",
   "execution_count": 132,
   "id": "63b21fe7",
   "metadata": {},
   "outputs": [
    {
     "name": "stdout",
     "output_type": "stream",
     "text": [
      "accuracy_score overall : 0.7414772727272727\n",
      "accuracy_score percent : 74.15\n"
     ]
    }
   ],
   "source": [
    "score = logistic_model.score(X_train, y_train)\n",
    "print('accuracy_score overall :', score)\n",
    "print('accuracy_score percent :', round(score*100,2))"
   ]
  },
  {
   "cell_type": "markdown",
   "id": "d901152b",
   "metadata": {},
   "source": [
    "## Decision Tree Classification Model"
   ]
  },
  {
   "cell_type": "code",
   "execution_count": 200,
   "id": "0b5031db",
   "metadata": {},
   "outputs": [],
   "source": [
    "from sklearn.tree import DecisionTreeClassifier\n",
    "from sklearn.metrics import classification_report, confusion_matrix"
   ]
  },
  {
   "cell_type": "code",
   "execution_count": 201,
   "id": "0f5e1971",
   "metadata": {},
   "outputs": [],
   "source": [
    "dtree= DecisionTreeClassifier(max_leaf_nodes=3)"
   ]
  },
  {
   "cell_type": "code",
   "execution_count": 202,
   "id": "c5e89f0f",
   "metadata": {},
   "outputs": [
    {
     "data": {
      "text/html": [
       "<style>#sk-container-id-5 {color: black;background-color: white;}#sk-container-id-5 pre{padding: 0;}#sk-container-id-5 div.sk-toggleable {background-color: white;}#sk-container-id-5 label.sk-toggleable__label {cursor: pointer;display: block;width: 100%;margin-bottom: 0;padding: 0.3em;box-sizing: border-box;text-align: center;}#sk-container-id-5 label.sk-toggleable__label-arrow:before {content: \"▸\";float: left;margin-right: 0.25em;color: #696969;}#sk-container-id-5 label.sk-toggleable__label-arrow:hover:before {color: black;}#sk-container-id-5 div.sk-estimator:hover label.sk-toggleable__label-arrow:before {color: black;}#sk-container-id-5 div.sk-toggleable__content {max-height: 0;max-width: 0;overflow: hidden;text-align: left;background-color: #f0f8ff;}#sk-container-id-5 div.sk-toggleable__content pre {margin: 0.2em;color: black;border-radius: 0.25em;background-color: #f0f8ff;}#sk-container-id-5 input.sk-toggleable__control:checked~div.sk-toggleable__content {max-height: 200px;max-width: 100%;overflow: auto;}#sk-container-id-5 input.sk-toggleable__control:checked~label.sk-toggleable__label-arrow:before {content: \"▾\";}#sk-container-id-5 div.sk-estimator input.sk-toggleable__control:checked~label.sk-toggleable__label {background-color: #d4ebff;}#sk-container-id-5 div.sk-label input.sk-toggleable__control:checked~label.sk-toggleable__label {background-color: #d4ebff;}#sk-container-id-5 input.sk-hidden--visually {border: 0;clip: rect(1px 1px 1px 1px);clip: rect(1px, 1px, 1px, 1px);height: 1px;margin: -1px;overflow: hidden;padding: 0;position: absolute;width: 1px;}#sk-container-id-5 div.sk-estimator {font-family: monospace;background-color: #f0f8ff;border: 1px dotted black;border-radius: 0.25em;box-sizing: border-box;margin-bottom: 0.5em;}#sk-container-id-5 div.sk-estimator:hover {background-color: #d4ebff;}#sk-container-id-5 div.sk-parallel-item::after {content: \"\";width: 100%;border-bottom: 1px solid gray;flex-grow: 1;}#sk-container-id-5 div.sk-label:hover label.sk-toggleable__label {background-color: #d4ebff;}#sk-container-id-5 div.sk-serial::before {content: \"\";position: absolute;border-left: 1px solid gray;box-sizing: border-box;top: 0;bottom: 0;left: 50%;z-index: 0;}#sk-container-id-5 div.sk-serial {display: flex;flex-direction: column;align-items: center;background-color: white;padding-right: 0.2em;padding-left: 0.2em;position: relative;}#sk-container-id-5 div.sk-item {position: relative;z-index: 1;}#sk-container-id-5 div.sk-parallel {display: flex;align-items: stretch;justify-content: center;background-color: white;position: relative;}#sk-container-id-5 div.sk-item::before, #sk-container-id-5 div.sk-parallel-item::before {content: \"\";position: absolute;border-left: 1px solid gray;box-sizing: border-box;top: 0;bottom: 0;left: 50%;z-index: -1;}#sk-container-id-5 div.sk-parallel-item {display: flex;flex-direction: column;z-index: 1;position: relative;background-color: white;}#sk-container-id-5 div.sk-parallel-item:first-child::after {align-self: flex-end;width: 50%;}#sk-container-id-5 div.sk-parallel-item:last-child::after {align-self: flex-start;width: 50%;}#sk-container-id-5 div.sk-parallel-item:only-child::after {width: 0;}#sk-container-id-5 div.sk-dashed-wrapped {border: 1px dashed gray;margin: 0 0.4em 0.5em 0.4em;box-sizing: border-box;padding-bottom: 0.4em;background-color: white;}#sk-container-id-5 div.sk-label label {font-family: monospace;font-weight: bold;display: inline-block;line-height: 1.2em;}#sk-container-id-5 div.sk-label-container {text-align: center;}#sk-container-id-5 div.sk-container {/* jupyter's `normalize.less` sets `[hidden] { display: none; }` but bootstrap.min.css set `[hidden] { display: none !important; }` so we also need the `!important` here to be able to override the default hidden behavior on the sphinx rendered scikit-learn.org. See: https://github.com/scikit-learn/scikit-learn/issues/21755 */display: inline-block !important;position: relative;}#sk-container-id-5 div.sk-text-repr-fallback {display: none;}</style><div id=\"sk-container-id-5\" class=\"sk-top-container\"><div class=\"sk-text-repr-fallback\"><pre>DecisionTreeClassifier(max_leaf_nodes=3)</pre><b>In a Jupyter environment, please rerun this cell to show the HTML representation or trust the notebook. <br />On GitHub, the HTML representation is unable to render, please try loading this page with nbviewer.org.</b></div><div class=\"sk-container\" hidden><div class=\"sk-item\"><div class=\"sk-estimator sk-toggleable\"><input class=\"sk-toggleable__control sk-hidden--visually\" id=\"sk-estimator-id-5\" type=\"checkbox\" checked><label for=\"sk-estimator-id-5\" class=\"sk-toggleable__label sk-toggleable__label-arrow\">DecisionTreeClassifier</label><div class=\"sk-toggleable__content\"><pre>DecisionTreeClassifier(max_leaf_nodes=3)</pre></div></div></div></div></div>"
      ],
      "text/plain": [
       "DecisionTreeClassifier(max_leaf_nodes=3)"
      ]
     },
     "execution_count": 202,
     "metadata": {},
     "output_type": "execute_result"
    }
   ],
   "source": [
    "dtree.fit(X_train,y_train)"
   ]
  },
  {
   "cell_type": "code",
   "execution_count": 203,
   "id": "054fefdf",
   "metadata": {},
   "outputs": [],
   "source": [
    "predictions= dtree.predict(X_test)"
   ]
  },
  {
   "cell_type": "code",
   "execution_count": 204,
   "id": "01a5d6f8",
   "metadata": {},
   "outputs": [
    {
     "name": "stdout",
     "output_type": "stream",
     "text": [
      "              precision    recall  f1-score   support\n",
      "\n",
      "           0       0.55      0.60      0.57        20\n",
      "           1       0.88      0.86      0.87        69\n",
      "\n",
      "    accuracy                           0.80        89\n",
      "   macro avg       0.71      0.73      0.72        89\n",
      "weighted avg       0.81      0.80      0.80        89\n",
      "\n"
     ]
    }
   ],
   "source": [
    "print(classification_report(y_test,predictions))"
   ]
  },
  {
   "cell_type": "markdown",
   "id": "bfb0ba80",
   "metadata": {},
   "source": [
    "## Random Forest Classification Model "
   ]
  },
  {
   "cell_type": "code",
   "execution_count": 205,
   "id": "c794cb06",
   "metadata": {},
   "outputs": [],
   "source": [
    "from sklearn.ensemble import RandomForestClassifier\n",
    "from sklearn import metrics"
   ]
  },
  {
   "cell_type": "code",
   "execution_count": 292,
   "id": "cad5101a",
   "metadata": {},
   "outputs": [
    {
     "data": {
      "text/html": [
       "<style>#sk-container-id-35 {color: black;background-color: white;}#sk-container-id-35 pre{padding: 0;}#sk-container-id-35 div.sk-toggleable {background-color: white;}#sk-container-id-35 label.sk-toggleable__label {cursor: pointer;display: block;width: 100%;margin-bottom: 0;padding: 0.3em;box-sizing: border-box;text-align: center;}#sk-container-id-35 label.sk-toggleable__label-arrow:before {content: \"▸\";float: left;margin-right: 0.25em;color: #696969;}#sk-container-id-35 label.sk-toggleable__label-arrow:hover:before {color: black;}#sk-container-id-35 div.sk-estimator:hover label.sk-toggleable__label-arrow:before {color: black;}#sk-container-id-35 div.sk-toggleable__content {max-height: 0;max-width: 0;overflow: hidden;text-align: left;background-color: #f0f8ff;}#sk-container-id-35 div.sk-toggleable__content pre {margin: 0.2em;color: black;border-radius: 0.25em;background-color: #f0f8ff;}#sk-container-id-35 input.sk-toggleable__control:checked~div.sk-toggleable__content {max-height: 200px;max-width: 100%;overflow: auto;}#sk-container-id-35 input.sk-toggleable__control:checked~label.sk-toggleable__label-arrow:before {content: \"▾\";}#sk-container-id-35 div.sk-estimator input.sk-toggleable__control:checked~label.sk-toggleable__label {background-color: #d4ebff;}#sk-container-id-35 div.sk-label input.sk-toggleable__control:checked~label.sk-toggleable__label {background-color: #d4ebff;}#sk-container-id-35 input.sk-hidden--visually {border: 0;clip: rect(1px 1px 1px 1px);clip: rect(1px, 1px, 1px, 1px);height: 1px;margin: -1px;overflow: hidden;padding: 0;position: absolute;width: 1px;}#sk-container-id-35 div.sk-estimator {font-family: monospace;background-color: #f0f8ff;border: 1px dotted black;border-radius: 0.25em;box-sizing: border-box;margin-bottom: 0.5em;}#sk-container-id-35 div.sk-estimator:hover {background-color: #d4ebff;}#sk-container-id-35 div.sk-parallel-item::after {content: \"\";width: 100%;border-bottom: 1px solid gray;flex-grow: 1;}#sk-container-id-35 div.sk-label:hover label.sk-toggleable__label {background-color: #d4ebff;}#sk-container-id-35 div.sk-serial::before {content: \"\";position: absolute;border-left: 1px solid gray;box-sizing: border-box;top: 0;bottom: 0;left: 50%;z-index: 0;}#sk-container-id-35 div.sk-serial {display: flex;flex-direction: column;align-items: center;background-color: white;padding-right: 0.2em;padding-left: 0.2em;position: relative;}#sk-container-id-35 div.sk-item {position: relative;z-index: 1;}#sk-container-id-35 div.sk-parallel {display: flex;align-items: stretch;justify-content: center;background-color: white;position: relative;}#sk-container-id-35 div.sk-item::before, #sk-container-id-35 div.sk-parallel-item::before {content: \"\";position: absolute;border-left: 1px solid gray;box-sizing: border-box;top: 0;bottom: 0;left: 50%;z-index: -1;}#sk-container-id-35 div.sk-parallel-item {display: flex;flex-direction: column;z-index: 1;position: relative;background-color: white;}#sk-container-id-35 div.sk-parallel-item:first-child::after {align-self: flex-end;width: 50%;}#sk-container-id-35 div.sk-parallel-item:last-child::after {align-self: flex-start;width: 50%;}#sk-container-id-35 div.sk-parallel-item:only-child::after {width: 0;}#sk-container-id-35 div.sk-dashed-wrapped {border: 1px dashed gray;margin: 0 0.4em 0.5em 0.4em;box-sizing: border-box;padding-bottom: 0.4em;background-color: white;}#sk-container-id-35 div.sk-label label {font-family: monospace;font-weight: bold;display: inline-block;line-height: 1.2em;}#sk-container-id-35 div.sk-label-container {text-align: center;}#sk-container-id-35 div.sk-container {/* jupyter's `normalize.less` sets `[hidden] { display: none; }` but bootstrap.min.css set `[hidden] { display: none !important; }` so we also need the `!important` here to be able to override the default hidden behavior on the sphinx rendered scikit-learn.org. See: https://github.com/scikit-learn/scikit-learn/issues/21755 */display: inline-block !important;position: relative;}#sk-container-id-35 div.sk-text-repr-fallback {display: none;}</style><div id=\"sk-container-id-35\" class=\"sk-top-container\"><div class=\"sk-text-repr-fallback\"><pre>RandomForestClassifier(max_depth=10, min_samples_split=5, n_estimators=122)</pre><b>In a Jupyter environment, please rerun this cell to show the HTML representation or trust the notebook. <br />On GitHub, the HTML representation is unable to render, please try loading this page with nbviewer.org.</b></div><div class=\"sk-container\" hidden><div class=\"sk-item\"><div class=\"sk-estimator sk-toggleable\"><input class=\"sk-toggleable__control sk-hidden--visually\" id=\"sk-estimator-id-35\" type=\"checkbox\" checked><label for=\"sk-estimator-id-35\" class=\"sk-toggleable__label sk-toggleable__label-arrow\">RandomForestClassifier</label><div class=\"sk-toggleable__content\"><pre>RandomForestClassifier(max_depth=10, min_samples_split=5, n_estimators=122)</pre></div></div></div></div></div>"
      ],
      "text/plain": [
       "RandomForestClassifier(max_depth=10, min_samples_split=5, n_estimators=122)"
      ]
     },
     "execution_count": 292,
     "metadata": {},
     "output_type": "execute_result"
    }
   ],
   "source": [
    "reg_rf = RandomForestClassifier(max_depth=10,min_samples_split= 5,n_estimators= 122)\n",
    "\n",
    "reg_rf.fit(X_train, y_train)"
   ]
  },
  {
   "cell_type": "code",
   "execution_count": 293,
   "id": "4aca0985",
   "metadata": {},
   "outputs": [
    {
     "name": "stdout",
     "output_type": "stream",
     "text": [
      "              precision    recall  f1-score   support\n",
      "\n",
      "           0       0.67      0.50      0.57        20\n",
      "           1       0.86      0.93      0.90        69\n",
      "\n",
      "    accuracy                           0.83        89\n",
      "   macro avg       0.77      0.71      0.73        89\n",
      "weighted avg       0.82      0.83      0.82        89\n",
      "\n"
     ]
    }
   ],
   "source": [
    "y_pred = reg_rf.predict(X_test)\n",
    "print(metrics.classification_report(y_test, y_pred))"
   ]
  },
  {
   "cell_type": "code",
   "execution_count": 295,
   "id": "3da70201",
   "metadata": {},
   "outputs": [],
   "source": [
    "import pickle\n",
    "pickle.dump(reg_rf, open('model.pkl', 'wb'))"
   ]
  },
  {
   "cell_type": "code",
   "execution_count": 330,
   "id": "7f47e4fc",
   "metadata": {},
   "outputs": [
    {
     "name": "stderr",
     "output_type": "stream",
     "text": [
      "/Users/hemangjiwnani/miniforge3/lib/python3.9/site-packages/sklearn/base.py:450: UserWarning: X does not have valid feature names, but RandomForestClassifier was fitted with feature names\n",
      "  warnings.warn(\n"
     ]
    },
    {
     "data": {
      "text/plain": [
       "array([1])"
      ]
     },
     "execution_count": 330,
     "metadata": {},
     "output_type": "execute_result"
    }
   ],
   "source": [
    "with open(\"model.pkl\", \"rb\") as f:\n",
    "    model = pickle.load(f)\n",
    "model.predict([[1, 4, 0, 50000, 2, 0, 3, 0, 35, 0, 4, 15000, 1, 0, 3, 0, 0, 0, 2]])"
   ]
  },
  {
   "cell_type": "code",
   "execution_count": 327,
   "id": "2eaa4071",
   "metadata": {},
   "outputs": [
    {
     "name": "stdout",
     "output_type": "stream",
     "text": [
      "[1.0, 0.0, 1.0, 9566.0, 0.0, 0.0, 0.0, 2.0, 31.0, 0.0, 0.0, 2.0, 1.0, 0.0, 36.0, 1.0, 0.0, 0.0, 2.0]\n"
     ]
    }
   ],
   "source": [
    "temp = X_test.head(1)\n",
    "temp = list(temp.iloc[0])\n",
    "print(temp)"
   ]
  },
  {
   "cell_type": "code",
   "execution_count": 287,
   "id": "dfb65f91",
   "metadata": {},
   "outputs": [
    {
     "name": "stdout",
     "output_type": "stream",
     "text": [
      "Mean accuracy:  0.7187927565392355\n",
      "Standard deviation:  0.02368324643452243\n"
     ]
    }
   ],
   "source": [
    "scores = cross_val_score(reg_rf, X_train, y_train, cv=5)\n",
    "\n",
    "# Print the mean and standard deviation of the scores\n",
    "print(\"Mean accuracy: \", scores.mean())\n",
    "print(\"Standard deviation: \", scores.std())"
   ]
  },
  {
   "cell_type": "code",
   "execution_count": 276,
   "id": "8ce6e06f",
   "metadata": {},
   "outputs": [],
   "source": [
    "from sklearn.model_selection import GridSearchCV\n",
    "from sklearn.model_selection import RandomizedSearchCV"
   ]
  },
  {
   "cell_type": "code",
   "execution_count": 245,
   "id": "37c1b193",
   "metadata": {},
   "outputs": [],
   "source": [
    "clf = RandomForestClassifier(random_state=0)"
   ]
  },
  {
   "cell_type": "code",
   "execution_count": 246,
   "id": "41f96378",
   "metadata": {},
   "outputs": [],
   "source": [
    "param_grid = {'n_estimators': [100, 200, 500],\n",
    "              'max_depth': [2, 5, 10],\n",
    "              'min_samples_split': [2, 5, 10]}"
   ]
  },
  {
   "cell_type": "code",
   "execution_count": 269,
   "id": "5d5bd9bd",
   "metadata": {},
   "outputs": [
    {
     "name": "stdout",
     "output_type": "stream",
     "text": [
      "Best parameters:  {'n_estimators': 500, 'min_samples_split': 2, 'max_depth': 10}\n",
      "Best score:  0.7272434607645876\n"
     ]
    }
   ],
   "source": [
    "random_search = RandomizedSearchCV(clf, param_grid, cv=5,\n",
    "                                   n_iter=10, random_state=0,\n",
    "                                   scoring='accuracy')\n",
    "random_search.fit(X_train, y_train)\n",
    "\n",
    "# Print the best parameters and the best score\n",
    "print(\"Best parameters: \", random_search.best_params_)\n",
    "print(\"Best score: \", random_search.best_score_)"
   ]
  },
  {
   "cell_type": "code",
   "execution_count": 208,
   "id": "d02e019e",
   "metadata": {},
   "outputs": [],
   "source": [
    "from xgboost import XGBClassifier\n",
    "from xgboost import plot_importance  \n",
    "from sklearn.model_selection import train_test_split, KFold, cross_val_score,GridSearchCV,StratifiedKFold "
   ]
  },
  {
   "cell_type": "code",
   "execution_count": 209,
   "id": "aa9b9b76",
   "metadata": {},
   "outputs": [
    {
     "data": {
      "text/plain": [
       "array([0, 1])"
      ]
     },
     "execution_count": 209,
     "metadata": {},
     "output_type": "execute_result"
    }
   ],
   "source": [
    "y_train.unique()"
   ]
  },
  {
   "cell_type": "code",
   "execution_count": 210,
   "id": "d21345fc",
   "metadata": {},
   "outputs": [],
   "source": [
    "model = XGBClassifier() \n",
    "\n",
    "learning_rate = [0.01, 0.1, 0.2] \n",
    "max_depth=[6]\n",
    "booster=['gbtree']\n",
    "n_estimators=[100]\n",
    "nthread=[6]\n",
    "min_child_weight=[1,5,10,20,30]\n",
    "\n",
    "param_grid = dict(min_child_weight=min_child_weight,nthread=nthread,learning_rate=learning_rate,max_depth=max_depth,booster=booster,n_estimators=n_estimators)\n",
    "kfold = StratifiedKFold(n_splits=5, shuffle=True, random_state=7) \n",
    "grid_search = GridSearchCV(model, param_grid, scoring=\"accuracy\", n_jobs = 10, cv=kfold) \n",
    "grid_result = grid_search.fit(X_train, y_train)"
   ]
  },
  {
   "cell_type": "code",
   "execution_count": 211,
   "id": "b65045f6",
   "metadata": {},
   "outputs": [
    {
     "name": "stdout",
     "output_type": "stream",
     "text": [
      "Best: 0.724225 using {'booster': 'gbtree', 'learning_rate': 0.1, 'max_depth': 6, 'min_child_weight': 1, 'n_estimators': 100, 'nthread': 6}\n"
     ]
    }
   ],
   "source": [
    "print(\"Best: %f using %s\" % (grid_result.best_score_, grid_result.best_params_))\n",
    "means = grid_result.cv_results_['mean_test_score'] \n",
    "stds = grid_result.cv_results_['std_test_score'] \n",
    "params = grid_result.cv_results_['params']"
   ]
  },
  {
   "cell_type": "code",
   "execution_count": 214,
   "id": "ff2b3f0a",
   "metadata": {},
   "outputs": [],
   "source": [
    "def evalua(y_pred,y_test):\n",
    "    \n",
    "    # Evaluate of predictions \n",
    "    accuracy = accuracy_score(y_test, y_pred) \n",
    "    roc = roc_auc_score(y_test, y_pred)\n",
    "    f1=f1_score(y_test, y_pred)\n",
    "\n",
    "    # Data test results\n",
    "    print('Evaluation of predictions: \\n')\n",
    "    print(\"Accuracy: %.2f%%\" % (accuracy * 100.0))\n",
    "    print(\"Area ROC: %.2f%%\" % (roc * 100.0))\n",
    "    print(\"F1 Score: %.2f%%\" % (f1 * 100.0))"
   ]
  },
  {
   "cell_type": "code",
   "execution_count": 216,
   "id": "bf8ae5ab",
   "metadata": {},
   "outputs": [
    {
     "name": "stdout",
     "output_type": "stream",
     "text": [
      "Evaluation of predictions: \n",
      "\n",
      "Accuracy: 79.78%\n",
      "Area ROC: 69.20%\n",
      "F1 Score: 87.14%\n"
     ]
    },
    {
     "ename": "NameError",
     "evalue": "name 'plt' is not defined",
     "output_type": "error",
     "traceback": [
      "\u001b[0;31m---------------------------------------------------------------------------\u001b[0m",
      "\u001b[0;31mNameError\u001b[0m                                 Traceback (most recent call last)",
      "\u001b[0;32m/var/folders/rf/qpg48nmj40j_kst8hsc4pxk40000gn/T/ipykernel_2213/3886183153.py\u001b[0m in \u001b[0;36m<module>\u001b[0;34m\u001b[0m\n\u001b[1;32m      6\u001b[0m \u001b[0;31m# Plot feature importance\u001b[0m\u001b[0;34m\u001b[0m\u001b[0;34m\u001b[0m\u001b[0m\n\u001b[1;32m      7\u001b[0m \u001b[0mplot_importance\u001b[0m\u001b[0;34m(\u001b[0m\u001b[0mmodel_best\u001b[0m\u001b[0;34m)\u001b[0m\u001b[0;34m\u001b[0m\u001b[0;34m\u001b[0m\u001b[0m\n\u001b[0;32m----> 8\u001b[0;31m \u001b[0mplt\u001b[0m\u001b[0;34m.\u001b[0m\u001b[0mshow\u001b[0m\u001b[0;34m(\u001b[0m\u001b[0;34m)\u001b[0m\u001b[0;34m\u001b[0m\u001b[0;34m\u001b[0m\u001b[0m\n\u001b[0m",
      "\u001b[0;31mNameError\u001b[0m: name 'plt' is not defined"
     ]
    },
    {
     "data": {
      "image/png": "[encoded data removed]",
      "text/plain": [
       "<Figure size 432x288 with 1 Axes>"
      ]
     },
     "metadata": {
      "needs_background": "light"
     },
     "output_type": "display_data"
    }
   ],
   "source": [
    "from sklearn.metrics import accuracy_score, roc_auc_score,f1_score, confusion_matrix, classification_report\n",
    "model_best = grid_search.best_estimator_\n",
    "y_pred=model_best.predict(X_test)\n",
    "evalua(y_pred,y_test)\n",
    "\n",
    "# Plot feature importance \n",
    "plot_importance(model_best) \n",
    "plt.show()"
   ]
  },
  {
   "cell_type": "code",
   "execution_count": 217,
   "id": "453716a4",
   "metadata": {},
   "outputs": [],
   "source": [
    "from sklearn.neighbors import KNeighborsClassifier\n",
    "from sklearn.metrics import roc_curve\n",
    "from sklearn.ensemble import AdaBoostClassifier, GradientBoostingClassifier\n",
    "from sklearn.neural_network import MLPClassifier"
   ]
  },
  {
   "cell_type": "code",
   "execution_count": 221,
   "id": "c3fd44dd",
   "metadata": {},
   "outputs": [
    {
     "name": "stdout",
     "output_type": "stream",
     "text": [
      "KNN Algoritması başarım sonucu:  0.5393258426966292\n"
     ]
    }
   ],
   "source": [
    "k=3\n",
    "knn = KNeighborsClassifier(n_neighbors = k)\n",
    "knn.fit(X_train,y_train)\n",
    "y_head=knn.predict(X_test)\n",
    "print(\"KNN Algoritması başarım sonucu: \",knn.score(X_test,y_test))\n"
   ]
  },
  {
   "cell_type": "code",
   "execution_count": null,
   "id": "13acf59d",
   "metadata": {},
   "outputs": [],
   "source": []
  }
 ],
 "metadata": {
  "kernelspec": {
   "display_name": "Python 3 (ipykernel)",
   "language": "python",
   "name": "python3"
  },
  "language_info": {
   "codemirror_mode": {
    "name": "ipython",
    "version": 3
   },
   "file_extension": ".py",
   "mimetype": "text/x-python",
   "name": "python",
   "nbconvert_exporter": "python",
   "pygments_lexer": "ipython3",
   "version": "3.9.7"
  }
 },
 "nbformat": 4,
 "nbformat_minor": 5
}
